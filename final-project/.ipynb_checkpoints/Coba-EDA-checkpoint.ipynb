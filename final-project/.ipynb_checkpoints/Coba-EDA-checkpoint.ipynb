{
 "cells": [
  {
   "cell_type": "markdown",
   "id": "7ff94c72",
   "metadata": {},
   "source": [
    "# Exploratory Data Analysis\n",
    "\n"
   ]
  },
  {
   "attachments": {},
   "cell_type": "markdown",
   "id": "de70046c",
   "metadata": {},
   "source": [
    "## Dataset \n",
    "\n",
    "Dataset yang digunakan adalah dataset asli *open-source* yang disediakan oleh Kaggle, dengan deskripsi sebagai berikut:\n",
    "\n",
    "* **Nama Dataset :** Metro Interstate Traffic Dataset\n",
    "* **Deskripsi :** This dataset contains hourly data on the traffic volume for westbound I-94, a major interstate highway in the US that connects Minneapolis and St Paul, Minnesota. The data was collected by the Minnesota Department of Transportation (MnDOT) from 2012 to 2018 at a station roughly midway between the two cities.\n",
    "\n",
    "* **Daftar Atribut**\n",
    "\n",
    "| Atribut | Deskripsi|\n",
    "|:---|:---|\n",
    "| holiday | a categorical variable that indicates whether the date is a US national holiday or a regional holiday (such as the Minnesota State Fair). |\n",
    "| temp | a numeric variable that shows the average temperature in kelvin. |\n",
    "| rain_1h | a numeric variable that shows the amount of rain in mm that occurred in the hour. |\n",
    "| snow_1h | a numeric variable that shows the amount of snow in mm that occurred in the hour. |\n",
    "| clouds_all | a numeric variable that shows the percentage of cloud cover. |\n",
    "| weather_main | a categorical variable that gives a short textual description of the current weather (such as Clear, Clouds, Rain, etc.). |\n",
    "| weather_description | a categorical variable that gives a longer textual description of the current weather (such as light rain, overcast clouds, etc.). |\n",
    "| date_time | a datetime variable that shows the hour of the data collected in local CST time. |\n",
    "| traffic_volume | a numeric variable that shows the hourly I-94 reported westbound traffic volume. |\n",
    "\n",
    "* **Jumlah kolom :** 9\n",
    "* **Jumlah baris :** 48.204\n",
    "\n",
    "* **Sumber :** https://www.kaggle.com/datasets/anshtanwar/metro-interstate-traffic-volume"
   ]
  },
  {
   "cell_type": "markdown",
   "id": "eccfcb0d",
   "metadata": {},
   "source": [
    "## Tujuan Analisis\n",
    "\n",
    "Mencari atribut atau variabel apa saja yang mempengaruhi volume lalu lintas di jalan raya antar negara bagian utama di US yang menghubungkan Minneapolis dan St Paul, Minnesota."
   ]
  },
  {
   "cell_type": "markdown",
   "id": "bbc7ac52",
   "metadata": {},
   "source": [
    "## 1.  Memahami Dataset"
   ]
  },
  {
   "cell_type": "markdown",
   "id": "922a6d38",
   "metadata": {},
   "source": [
    "### a. Memuat Dataset\n",
    "\n",
    "Dataset berbentuk CSV, diimport menggunakan library Pandas dengan bahasa pemrograman Python."
   ]
  },
  {
   "cell_type": "code",
   "execution_count": 1,
   "id": "52cf9040",
   "metadata": {},
   "outputs": [],
   "source": [
    "# import library \n",
    "import pandas as pd\n",
    "\n",
    "# load dataset \n",
    "traffic_df = pd.read_csv('Metro_Interstate_Traffic_Volume.csv')"
   ]
  },
  {
   "cell_type": "markdown",
   "id": "8f38c0b0",
   "metadata": {},
   "source": [
    "### b. Menampilkan Dataset\n",
    "\n",
    "Melihat beberapa baris data untuk memahami struktur dan formatnya secara sekilas."
   ]
  },
  {
   "cell_type": "code",
   "execution_count": 2,
   "id": "5d322b1f",
   "metadata": {},
   "outputs": [
    {
     "data": {
      "text/html": [
       "<div>\n",
       "<style scoped>\n",
       "    .dataframe tbody tr th:only-of-type {\n",
       "        vertical-align: middle;\n",
       "    }\n",
       "\n",
       "    .dataframe tbody tr th {\n",
       "        vertical-align: top;\n",
       "    }\n",
       "\n",
       "    .dataframe thead th {\n",
       "        text-align: right;\n",
       "    }\n",
       "</style>\n",
       "<table border=\"1\" class=\"dataframe\">\n",
       "  <thead>\n",
       "    <tr style=\"text-align: right;\">\n",
       "      <th></th>\n",
       "      <th>traffic_volume</th>\n",
       "      <th>holiday</th>\n",
       "      <th>temp</th>\n",
       "      <th>rain_1h</th>\n",
       "      <th>snow_1h</th>\n",
       "      <th>clouds_all</th>\n",
       "      <th>weather_main</th>\n",
       "      <th>weather_description</th>\n",
       "      <th>date_time</th>\n",
       "    </tr>\n",
       "  </thead>\n",
       "  <tbody>\n",
       "    <tr>\n",
       "      <th>0</th>\n",
       "      <td>5545</td>\n",
       "      <td>None</td>\n",
       "      <td>288.28</td>\n",
       "      <td>0.0</td>\n",
       "      <td>0.0</td>\n",
       "      <td>40</td>\n",
       "      <td>Clouds</td>\n",
       "      <td>scattered clouds</td>\n",
       "      <td>02-10-2012 09:00</td>\n",
       "    </tr>\n",
       "    <tr>\n",
       "      <th>1</th>\n",
       "      <td>4516</td>\n",
       "      <td>None</td>\n",
       "      <td>289.36</td>\n",
       "      <td>0.0</td>\n",
       "      <td>0.0</td>\n",
       "      <td>75</td>\n",
       "      <td>Clouds</td>\n",
       "      <td>broken clouds</td>\n",
       "      <td>02-10-2012 10:00</td>\n",
       "    </tr>\n",
       "    <tr>\n",
       "      <th>2</th>\n",
       "      <td>4767</td>\n",
       "      <td>None</td>\n",
       "      <td>289.58</td>\n",
       "      <td>0.0</td>\n",
       "      <td>0.0</td>\n",
       "      <td>90</td>\n",
       "      <td>Clouds</td>\n",
       "      <td>overcast clouds</td>\n",
       "      <td>02-10-2012 11:00</td>\n",
       "    </tr>\n",
       "    <tr>\n",
       "      <th>3</th>\n",
       "      <td>5026</td>\n",
       "      <td>None</td>\n",
       "      <td>290.13</td>\n",
       "      <td>0.0</td>\n",
       "      <td>0.0</td>\n",
       "      <td>90</td>\n",
       "      <td>Clouds</td>\n",
       "      <td>overcast clouds</td>\n",
       "      <td>02-10-2012 12:00</td>\n",
       "    </tr>\n",
       "    <tr>\n",
       "      <th>4</th>\n",
       "      <td>4918</td>\n",
       "      <td>None</td>\n",
       "      <td>291.14</td>\n",
       "      <td>0.0</td>\n",
       "      <td>0.0</td>\n",
       "      <td>75</td>\n",
       "      <td>Clouds</td>\n",
       "      <td>broken clouds</td>\n",
       "      <td>02-10-2012 13:00</td>\n",
       "    </tr>\n",
       "    <tr>\n",
       "      <th>...</th>\n",
       "      <td>...</td>\n",
       "      <td>...</td>\n",
       "      <td>...</td>\n",
       "      <td>...</td>\n",
       "      <td>...</td>\n",
       "      <td>...</td>\n",
       "      <td>...</td>\n",
       "      <td>...</td>\n",
       "      <td>...</td>\n",
       "    </tr>\n",
       "    <tr>\n",
       "      <th>48199</th>\n",
       "      <td>3543</td>\n",
       "      <td>None</td>\n",
       "      <td>283.45</td>\n",
       "      <td>0.0</td>\n",
       "      <td>0.0</td>\n",
       "      <td>75</td>\n",
       "      <td>Clouds</td>\n",
       "      <td>broken clouds</td>\n",
       "      <td>30-09-2018 19:00</td>\n",
       "    </tr>\n",
       "    <tr>\n",
       "      <th>48200</th>\n",
       "      <td>2781</td>\n",
       "      <td>None</td>\n",
       "      <td>282.76</td>\n",
       "      <td>0.0</td>\n",
       "      <td>0.0</td>\n",
       "      <td>90</td>\n",
       "      <td>Clouds</td>\n",
       "      <td>overcast clouds</td>\n",
       "      <td>30-09-2018 20:00</td>\n",
       "    </tr>\n",
       "    <tr>\n",
       "      <th>48201</th>\n",
       "      <td>2159</td>\n",
       "      <td>None</td>\n",
       "      <td>282.73</td>\n",
       "      <td>0.0</td>\n",
       "      <td>0.0</td>\n",
       "      <td>90</td>\n",
       "      <td>Thunderstorm</td>\n",
       "      <td>proximity thunderstorm</td>\n",
       "      <td>30-09-2018 21:00</td>\n",
       "    </tr>\n",
       "    <tr>\n",
       "      <th>48202</th>\n",
       "      <td>1450</td>\n",
       "      <td>None</td>\n",
       "      <td>282.09</td>\n",
       "      <td>0.0</td>\n",
       "      <td>0.0</td>\n",
       "      <td>90</td>\n",
       "      <td>Clouds</td>\n",
       "      <td>overcast clouds</td>\n",
       "      <td>30-09-2018 22:00</td>\n",
       "    </tr>\n",
       "    <tr>\n",
       "      <th>48203</th>\n",
       "      <td>954</td>\n",
       "      <td>None</td>\n",
       "      <td>282.12</td>\n",
       "      <td>0.0</td>\n",
       "      <td>0.0</td>\n",
       "      <td>90</td>\n",
       "      <td>Clouds</td>\n",
       "      <td>overcast clouds</td>\n",
       "      <td>30-09-2018 23:00</td>\n",
       "    </tr>\n",
       "  </tbody>\n",
       "</table>\n",
       "<p>48204 rows × 9 columns</p>\n",
       "</div>"
      ],
      "text/plain": [
       "       traffic_volume holiday    temp  rain_1h  snow_1h  clouds_all  \\\n",
       "0                5545    None  288.28      0.0      0.0          40   \n",
       "1                4516    None  289.36      0.0      0.0          75   \n",
       "2                4767    None  289.58      0.0      0.0          90   \n",
       "3                5026    None  290.13      0.0      0.0          90   \n",
       "4                4918    None  291.14      0.0      0.0          75   \n",
       "...               ...     ...     ...      ...      ...         ...   \n",
       "48199            3543    None  283.45      0.0      0.0          75   \n",
       "48200            2781    None  282.76      0.0      0.0          90   \n",
       "48201            2159    None  282.73      0.0      0.0          90   \n",
       "48202            1450    None  282.09      0.0      0.0          90   \n",
       "48203             954    None  282.12      0.0      0.0          90   \n",
       "\n",
       "       weather_main     weather_description         date_time  \n",
       "0            Clouds        scattered clouds  02-10-2012 09:00  \n",
       "1            Clouds           broken clouds  02-10-2012 10:00  \n",
       "2            Clouds         overcast clouds  02-10-2012 11:00  \n",
       "3            Clouds         overcast clouds  02-10-2012 12:00  \n",
       "4            Clouds           broken clouds  02-10-2012 13:00  \n",
       "...             ...                     ...               ...  \n",
       "48199        Clouds           broken clouds  30-09-2018 19:00  \n",
       "48200        Clouds         overcast clouds  30-09-2018 20:00  \n",
       "48201  Thunderstorm  proximity thunderstorm  30-09-2018 21:00  \n",
       "48202        Clouds         overcast clouds  30-09-2018 22:00  \n",
       "48203        Clouds         overcast clouds  30-09-2018 23:00  \n",
       "\n",
       "[48204 rows x 9 columns]"
      ]
     },
     "execution_count": 2,
     "metadata": {},
     "output_type": "execute_result"
    }
   ],
   "source": [
    "# menampilkan dataset\n",
    "traffic_df"
   ]
  },
  {
   "cell_type": "markdown",
   "id": "3919bb77",
   "metadata": {},
   "source": [
    "Terlihat bahwa dataset memang terdiri dari **48.204 baris** dan **9 kolom**."
   ]
  },
  {
   "cell_type": "code",
   "execution_count": 4,
   "id": "10eb096a",
   "metadata": {},
   "outputs": [
    {
     "data": {
      "text/html": [
       "<div>\n",
       "<style scoped>\n",
       "    .dataframe tbody tr th:only-of-type {\n",
       "        vertical-align: middle;\n",
       "    }\n",
       "\n",
       "    .dataframe tbody tr th {\n",
       "        vertical-align: top;\n",
       "    }\n",
       "\n",
       "    .dataframe thead th {\n",
       "        text-align: right;\n",
       "    }\n",
       "</style>\n",
       "<table border=\"1\" class=\"dataframe\">\n",
       "  <thead>\n",
       "    <tr style=\"text-align: right;\">\n",
       "      <th></th>\n",
       "      <th>traffic_volume</th>\n",
       "      <th>holiday</th>\n",
       "      <th>temp</th>\n",
       "      <th>rain_1h</th>\n",
       "      <th>snow_1h</th>\n",
       "      <th>clouds_all</th>\n",
       "      <th>weather_main</th>\n",
       "      <th>weather_description</th>\n",
       "      <th>date_time</th>\n",
       "    </tr>\n",
       "  </thead>\n",
       "  <tbody>\n",
       "    <tr>\n",
       "      <th>0</th>\n",
       "      <td>5545</td>\n",
       "      <td>None</td>\n",
       "      <td>288.28</td>\n",
       "      <td>0.0</td>\n",
       "      <td>0.0</td>\n",
       "      <td>40</td>\n",
       "      <td>Clouds</td>\n",
       "      <td>scattered clouds</td>\n",
       "      <td>02-10-2012 09:00</td>\n",
       "    </tr>\n",
       "    <tr>\n",
       "      <th>1</th>\n",
       "      <td>4516</td>\n",
       "      <td>None</td>\n",
       "      <td>289.36</td>\n",
       "      <td>0.0</td>\n",
       "      <td>0.0</td>\n",
       "      <td>75</td>\n",
       "      <td>Clouds</td>\n",
       "      <td>broken clouds</td>\n",
       "      <td>02-10-2012 10:00</td>\n",
       "    </tr>\n",
       "    <tr>\n",
       "      <th>2</th>\n",
       "      <td>4767</td>\n",
       "      <td>None</td>\n",
       "      <td>289.58</td>\n",
       "      <td>0.0</td>\n",
       "      <td>0.0</td>\n",
       "      <td>90</td>\n",
       "      <td>Clouds</td>\n",
       "      <td>overcast clouds</td>\n",
       "      <td>02-10-2012 11:00</td>\n",
       "    </tr>\n",
       "    <tr>\n",
       "      <th>3</th>\n",
       "      <td>5026</td>\n",
       "      <td>None</td>\n",
       "      <td>290.13</td>\n",
       "      <td>0.0</td>\n",
       "      <td>0.0</td>\n",
       "      <td>90</td>\n",
       "      <td>Clouds</td>\n",
       "      <td>overcast clouds</td>\n",
       "      <td>02-10-2012 12:00</td>\n",
       "    </tr>\n",
       "    <tr>\n",
       "      <th>4</th>\n",
       "      <td>4918</td>\n",
       "      <td>None</td>\n",
       "      <td>291.14</td>\n",
       "      <td>0.0</td>\n",
       "      <td>0.0</td>\n",
       "      <td>75</td>\n",
       "      <td>Clouds</td>\n",
       "      <td>broken clouds</td>\n",
       "      <td>02-10-2012 13:00</td>\n",
       "    </tr>\n",
       "  </tbody>\n",
       "</table>\n",
       "</div>"
      ],
      "text/plain": [
       "   traffic_volume holiday    temp  rain_1h  snow_1h  clouds_all weather_main  \\\n",
       "0            5545    None  288.28      0.0      0.0          40       Clouds   \n",
       "1            4516    None  289.36      0.0      0.0          75       Clouds   \n",
       "2            4767    None  289.58      0.0      0.0          90       Clouds   \n",
       "3            5026    None  290.13      0.0      0.0          90       Clouds   \n",
       "4            4918    None  291.14      0.0      0.0          75       Clouds   \n",
       "\n",
       "  weather_description         date_time  \n",
       "0    scattered clouds  02-10-2012 09:00  \n",
       "1       broken clouds  02-10-2012 10:00  \n",
       "2     overcast clouds  02-10-2012 11:00  \n",
       "3     overcast clouds  02-10-2012 12:00  \n",
       "4       broken clouds  02-10-2012 13:00  "
      ]
     },
     "execution_count": 4,
     "metadata": {},
     "output_type": "execute_result"
    }
   ],
   "source": [
    "# hanya menampilkan 5 sampel data teratas\n",
    "traffic_df.head()"
   ]
  },
  {
   "attachments": {},
   "cell_type": "markdown",
   "id": "44dda80b",
   "metadata": {},
   "source": [
    "### c. Mengidentifikasi Atribut \n",
    "\n",
    "Mengidentifikasi jenis-jenis atribut pada data, tipe data setiap atribut, dan arti dari setiap atribut."
   ]
  },
  {
   "cell_type": "code",
   "execution_count": 45,
   "id": "2f46c1af",
   "metadata": {},
   "outputs": [
    {
     "data": {
      "text/plain": [
       "['traffic_volume',\n",
       " 'holiday',\n",
       " 'temp',\n",
       " 'rain_1h',\n",
       " 'snow_1h',\n",
       " 'clouds_all',\n",
       " 'weather_main',\n",
       " 'weather_description',\n",
       " 'date_time']"
      ]
     },
     "execution_count": 45,
     "metadata": {},
     "output_type": "execute_result"
    }
   ],
   "source": [
    "# list nama atribut\n",
    "traffic_df.columns.values.tolist()"
   ]
  },
  {
   "cell_type": "code",
   "execution_count": 9,
   "id": "b5fa229c",
   "metadata": {},
   "outputs": [
    {
     "data": {
      "text/plain": [
       "traffic_volume           int64\n",
       "holiday                 object\n",
       "temp                   float64\n",
       "rain_1h                float64\n",
       "snow_1h                float64\n",
       "clouds_all               int64\n",
       "weather_main            object\n",
       "weather_description     object\n",
       "date_time               object\n",
       "dtype: object"
      ]
     },
     "execution_count": 9,
     "metadata": {},
     "output_type": "execute_result"
    }
   ],
   "source": [
    "# identifikasi tipe data setiap atribut\n",
    "traffic_df.dtypes"
   ]
  },
  {
   "cell_type": "markdown",
   "id": "e3a0e6e4",
   "metadata": {},
   "source": [
    "Berikut adalah deskripsi atribut/kolom yang kita dapat dari Kaggle:\n",
    "\n",
    "| Atribut | Deskripsi |\n",
    "|:--------|:----------|\n",
    "| traffic_volume | Variabel numerik yang menunjukkan volume lalu lintas I-94 yang dilaporkan ke barat setiap jam. |\n",
    "| holiday | Variabel kategorikal yang menunjukkan apakah tanggal tersebut adalah hari libur nasional Amerika Serikat atau hari libur regional (seperti Pameran Negara Bagian Minnesota). |\n",
    "| temp | Variabel numerik yang menunjukkan suhu rata-rata dalam kelvin. |\n",
    "| rain_1h | Variabel numerik yang menunjukkan jumlah hujan dalam mm yang terjadi dalam satu jam. |\n",
    "| snow_1h | Variabel numerik yang menunjukkan jumlah salju dalam mm yang terjadi dalam satu jam. |\n",
    "| clouds_all | Variabel numerik yang menunjukkan persentase tutupan awan. |\n",
    "| weather_main | Variabel kategorikal yang memberikan deskripsi tekstual singkat dari kondisi cuaca saat ini (seperti Cerah, Berawan, Hujan, dll.). |\n",
    "| weather_description | Variabel kategorikal yang memberikan deskripsi tekstual lebih panjang tentang kondisi cuaca saat ini (seperti hujan ringan, awan mendung, dll.). |\n",
    "| date_time | Variabel datetime yang menunjukkan jam pengumpulan data dalam waktu lokal CST. |\n",
    "\n",
    "Terdapat beberapa atribut yang mungkin saja dapat mempengaruhi volume lalu lintas jalan, yaitu:\n",
    "* Hari libur nasional\n",
    "* Suhu\n",
    "* Hujan\n",
    "* Salju\n",
    "* Presentase berawan\n",
    "* Cuaca\n",
    "* Waktu\n",
    "\n",
    "Kita harus mengidentifikasi atribut satu per-satu."
   ]
  },
  {
   "cell_type": "markdown",
   "id": "2fd5a7bb",
   "metadata": {},
   "source": [
    "### 1) Hari Libur Nasional\n",
    "\n",
    "Atribut \"holiday\" berisi data dengan tipe data **object** atau **string** atau karakter. Sehingga, kita identifikasi lihat nilai apa saja sih yang dimiliki oleh atribut ini."
   ]
  },
  {
   "cell_type": "code",
   "execution_count": 15,
   "id": "495d2225",
   "metadata": {},
   "outputs": [
    {
     "data": {
      "text/plain": [
       "['None',\n",
       " 'Columbus Day',\n",
       " 'Veterans Day',\n",
       " 'Thanksgiving Day',\n",
       " 'Christmas Day',\n",
       " 'New Years Day',\n",
       " 'Washingtons Birthday',\n",
       " 'Memorial Day',\n",
       " 'Independence Day',\n",
       " 'State Fair',\n",
       " 'Labor Day',\n",
       " 'Martin Luther King Jr Day']"
      ]
     },
     "execution_count": 15,
     "metadata": {},
     "output_type": "execute_result"
    }
   ],
   "source": [
    "# cek semua nilai yang berbeda dalam kolom \"holiday\"\n",
    "traffic_df['holiday'].unique().tolist()"
   ]
  },
  {
   "cell_type": "markdown",
   "id": "87b7aa49",
   "metadata": {},
   "source": [
    "Ternyata, ada nilai \"None\" pada atribut \"holiday\", yang artinya \"tidak ada hari libur\" atau \"hari kerja\". Untuk ke depannya kita perlu melakukan pre-processing pada atribut ini. "
   ]
  },
  {
   "cell_type": "markdown",
   "id": "42b7fed4",
   "metadata": {},
   "source": [
    "### 2) Suhu, Hujan, Salju\n",
    "\n",
    "Atribut \"temp\", \"rain\", dan \"snow\" berisi data dengan tipe data **float** atau bilangan pecahan. Kita tidak perlu mengetahui nilai distinct-nya karena hasilnya pasti banyak sekali. Kita hanya perlu mencari apakah atribut ini memiliki nilai yang \"aneh\"."
   ]
  },
  {
   "cell_type": "code",
   "execution_count": 18,
   "id": "e4ee73c7",
   "metadata": {},
   "outputs": [
    {
     "data": {
      "text/plain": [
       "False"
      ]
     },
     "execution_count": 18,
     "metadata": {},
     "output_type": "execute_result"
    }
   ],
   "source": [
    "# cek apakah ada nilai null\n",
    "traffic_df['temp'].isnull().values.any()"
   ]
  },
  {
   "cell_type": "code",
   "execution_count": 20,
   "id": "431b11fd",
   "metadata": {},
   "outputs": [
    {
     "data": {
      "text/plain": [
       "False"
      ]
     },
     "execution_count": 20,
     "metadata": {},
     "output_type": "execute_result"
    }
   ],
   "source": [
    "# cek apakah ada nilai null\n",
    "traffic_df['rain_1h'].isnull().values.any()"
   ]
  },
  {
   "cell_type": "code",
   "execution_count": 21,
   "id": "6f25e238",
   "metadata": {},
   "outputs": [
    {
     "data": {
      "text/plain": [
       "False"
      ]
     },
     "execution_count": 21,
     "metadata": {},
     "output_type": "execute_result"
    }
   ],
   "source": [
    "# cek apakah ada nilai null\n",
    "traffic_df['snow_1h'].isnull().values.any()"
   ]
  },
  {
   "cell_type": "markdown",
   "id": "b2a79282",
   "metadata": {},
   "source": [
    "Tidak ada nilai \"null\", artinya atribut-atribut ini cukup baik, tidak perlu melalui pre-processing."
   ]
  },
  {
   "cell_type": "markdown",
   "id": "544d6294",
   "metadata": {},
   "source": [
    "### 3) Presentase Berawan\n",
    "\n",
    "Atribut \"clouds\" berisi data dengan tipe data **int** atau bilangan bulat. Kita tidak perlu mengetahui nilai distinct-nya karena hasilnya pasti banyak sekali. Kita hanya perlu mencari apakah atribut ini memiliki nilai yang \"aneh\"."
   ]
  },
  {
   "cell_type": "code",
   "execution_count": 23,
   "id": "a7f34ac7",
   "metadata": {},
   "outputs": [
    {
     "data": {
      "text/plain": [
       "False"
      ]
     },
     "execution_count": 23,
     "metadata": {},
     "output_type": "execute_result"
    }
   ],
   "source": [
    "# cek apakah ada nilai null\n",
    "traffic_df['clouds_all'].isnull().values.any()"
   ]
  },
  {
   "cell_type": "markdown",
   "id": "dbef5298",
   "metadata": {},
   "source": [
    "Tidak ada nilai \"null\", artinya atribut ini cukup baik, tidak perlu melalui pre-processing."
   ]
  },
  {
   "cell_type": "markdown",
   "id": "793f6c36",
   "metadata": {},
   "source": [
    "### 4) Cuaca\n",
    "\n",
    "Atribut \"weather\" berisi data dengan tipe data **object** atau **string** atau karakter. Atribut ini terdiri dari 2 kolom, yaitu \"weather_main\" dan \"weather_description\" yang sepertinya saling berhubungan. Kita harus cek lagi."
   ]
  },
  {
   "cell_type": "code",
   "execution_count": 24,
   "id": "c29e994a",
   "metadata": {},
   "outputs": [
    {
     "data": {
      "text/plain": [
       "['Clouds',\n",
       " 'Clear',\n",
       " 'Rain',\n",
       " 'Drizzle',\n",
       " 'Mist',\n",
       " 'Haze',\n",
       " 'Fog',\n",
       " 'Thunderstorm',\n",
       " 'Snow',\n",
       " 'Squall',\n",
       " 'Smoke']"
      ]
     },
     "execution_count": 24,
     "metadata": {},
     "output_type": "execute_result"
    }
   ],
   "source": [
    "# cek semua nilai yang berbeda dalam kolom \"weather_main\"\n",
    "traffic_df['weather_main'].unique().tolist()"
   ]
  },
  {
   "cell_type": "code",
   "execution_count": 25,
   "id": "ff16b262",
   "metadata": {},
   "outputs": [
    {
     "data": {
      "text/plain": [
       "['scattered clouds',\n",
       " 'broken clouds',\n",
       " 'overcast clouds',\n",
       " 'sky is clear',\n",
       " 'few clouds',\n",
       " 'light rain',\n",
       " 'light intensity drizzle',\n",
       " 'mist',\n",
       " 'haze',\n",
       " 'fog',\n",
       " 'proximity shower rain',\n",
       " 'drizzle',\n",
       " 'moderate rain',\n",
       " 'heavy intensity rain',\n",
       " 'proximity thunderstorm',\n",
       " 'thunderstorm with light rain',\n",
       " 'proximity thunderstorm with rain',\n",
       " 'heavy snow',\n",
       " 'heavy intensity drizzle',\n",
       " 'snow',\n",
       " 'thunderstorm with heavy rain',\n",
       " 'freezing rain',\n",
       " 'shower snow',\n",
       " 'light rain and snow',\n",
       " 'light intensity shower rain',\n",
       " 'SQUALLS',\n",
       " 'thunderstorm with rain',\n",
       " 'proximity thunderstorm with drizzle',\n",
       " 'thunderstorm',\n",
       " 'Sky is Clear',\n",
       " 'very heavy rain',\n",
       " 'thunderstorm with light drizzle',\n",
       " 'light snow',\n",
       " 'thunderstorm with drizzle',\n",
       " 'smoke',\n",
       " 'shower drizzle',\n",
       " 'light shower snow',\n",
       " 'sleet']"
      ]
     },
     "execution_count": 25,
     "metadata": {},
     "output_type": "execute_result"
    }
   ],
   "source": [
    "# cek semua nilai yang berbeda dalam kolom \"weather_description\"\n",
    "traffic_df['weather_description'].unique().tolist()"
   ]
  },
  {
   "cell_type": "code",
   "execution_count": 41,
   "id": "a4a6520a",
   "metadata": {},
   "outputs": [],
   "source": [
    "import pprint\n",
    "\n",
    "# function to get unique values\n",
    "def unique(mylist):\n",
    "    unique_list = []\n",
    "    for x in mylist:\n",
    "        # check if exists in unique_list or not\n",
    "        if x not in unique_list:\n",
    "            unique_list.append(x)\n",
    "\n",
    "    pprint.pprint(unique_list)"
   ]
  },
  {
   "cell_type": "code",
   "execution_count": 44,
   "id": "5fe48156",
   "metadata": {},
   "outputs": [
    {
     "name": "stdout",
     "output_type": "stream",
     "text": [
      "[('Clouds', 'scattered clouds'),\n",
      " ('Clouds', 'broken clouds'),\n",
      " ('Clouds', 'overcast clouds'),\n",
      " ('Clear', 'sky is clear'),\n",
      " ('Clouds', 'few clouds'),\n",
      " ('Rain', 'light rain'),\n",
      " ('Drizzle', 'light intensity drizzle'),\n",
      " ('Mist', 'mist'),\n",
      " ('Haze', 'haze'),\n",
      " ('Fog', 'fog'),\n",
      " ('Rain', 'proximity shower rain'),\n",
      " ('Drizzle', 'drizzle'),\n",
      " ('Rain', 'moderate rain'),\n",
      " ('Rain', 'heavy intensity rain'),\n",
      " ('Thunderstorm', 'proximity thunderstorm'),\n",
      " ('Thunderstorm', 'thunderstorm with light rain'),\n",
      " ('Thunderstorm', 'proximity thunderstorm with rain'),\n",
      " ('Snow', 'heavy snow'),\n",
      " ('Drizzle', 'heavy intensity drizzle'),\n",
      " ('Snow', 'snow'),\n",
      " ('Thunderstorm', 'thunderstorm with heavy rain'),\n",
      " ('Rain', 'freezing rain'),\n",
      " ('Snow', 'shower snow'),\n",
      " ('Snow', 'light rain and snow'),\n",
      " ('Rain', 'light intensity shower rain'),\n",
      " ('Squall', 'SQUALLS'),\n",
      " ('Thunderstorm', 'thunderstorm with rain'),\n",
      " ('Thunderstorm', 'proximity thunderstorm with drizzle'),\n",
      " ('Thunderstorm', 'thunderstorm'),\n",
      " ('Clear', 'Sky is Clear'),\n",
      " ('Rain', 'very heavy rain'),\n",
      " ('Thunderstorm', 'thunderstorm with light drizzle'),\n",
      " ('Snow', 'light snow'),\n",
      " ('Thunderstorm', 'thunderstorm with drizzle'),\n",
      " ('Smoke', 'smoke'),\n",
      " ('Drizzle', 'shower drizzle'),\n",
      " ('Snow', 'light shower snow'),\n",
      " ('Snow', 'sleet')]\n"
     ]
    }
   ],
   "source": [
    "# cek semua pasangan yang berbeda pada kolom \"weather_main\" dan \"weather_description\"\n",
    "unique(list(zip(traffic_df['weather_main'],traffic_df['weather_description'])))"
   ]
  },
  {
   "cell_type": "markdown",
   "id": "a6e04a9f",
   "metadata": {},
   "source": [
    "Tidak ada nilai \"null\" atau \"None\", artinya 2 atribut ini cukup baik, tidak perlu melalui pre-processing."
   ]
  },
  {
   "cell_type": "markdown",
   "id": "ef9c8de4",
   "metadata": {},
   "source": [
    "### 5) Waktu\n",
    "\n",
    "Atribut \"date_time\" berisi data dengan tipe data **object** atau **string** atau karakter. "
   ]
  },
  {
   "cell_type": "code",
   "execution_count": 46,
   "id": "f6bd8b28",
   "metadata": {},
   "outputs": [
    {
     "data": {
      "text/plain": [
       "False"
      ]
     },
     "execution_count": 46,
     "metadata": {},
     "output_type": "execute_result"
    }
   ],
   "source": [
    "# cek apakah ada nilai null\n",
    "traffic_df['date_time'].isnull().values.any()"
   ]
  },
  {
   "cell_type": "markdown",
   "id": "44e4b634",
   "metadata": {},
   "source": [
    "Tidak ada \"null\" pada atribut ini, namun atribut ini tidak berarti apa-apa jika masih dalam bentuk tipe data object. Diperlukan pre-processing untuk mengolah dan menggunakan atribut ini lebih jauh."
   ]
  },
  {
   "cell_type": "markdown",
   "id": "9670b67b",
   "metadata": {},
   "source": [
    "## 2. Statistik Deskriptif\n",
    "\n",
    "Statistik deskriptif ada 2, untuk melihat pusat data dan penyebaran data.\n",
    "* **Pusat data**: Mean, median, modus\n",
    "* **Penyebaran data**: Varian, standar deviasi\n",
    "\n",
    "Kita bisa menggunakan fungsi yang telah disediakan Pandas yaitu **describe()** untuk mendapatkan nilai mean, std, max, min, dan kuartil"
   ]
  },
  {
   "cell_type": "code",
   "execution_count": 47,
   "id": "e49d4af7",
   "metadata": {},
   "outputs": [
    {
     "data": {
      "text/html": [
       "<div>\n",
       "<style scoped>\n",
       "    .dataframe tbody tr th:only-of-type {\n",
       "        vertical-align: middle;\n",
       "    }\n",
       "\n",
       "    .dataframe tbody tr th {\n",
       "        vertical-align: top;\n",
       "    }\n",
       "\n",
       "    .dataframe thead th {\n",
       "        text-align: right;\n",
       "    }\n",
       "</style>\n",
       "<table border=\"1\" class=\"dataframe\">\n",
       "  <thead>\n",
       "    <tr style=\"text-align: right;\">\n",
       "      <th></th>\n",
       "      <th>traffic_volume</th>\n",
       "      <th>temp</th>\n",
       "      <th>rain_1h</th>\n",
       "      <th>snow_1h</th>\n",
       "      <th>clouds_all</th>\n",
       "    </tr>\n",
       "  </thead>\n",
       "  <tbody>\n",
       "    <tr>\n",
       "      <th>count</th>\n",
       "      <td>48204.000000</td>\n",
       "      <td>48204.000000</td>\n",
       "      <td>48204.000000</td>\n",
       "      <td>48204.000000</td>\n",
       "      <td>48204.000000</td>\n",
       "    </tr>\n",
       "    <tr>\n",
       "      <th>mean</th>\n",
       "      <td>3259.818355</td>\n",
       "      <td>281.205870</td>\n",
       "      <td>0.334264</td>\n",
       "      <td>0.000222</td>\n",
       "      <td>49.362231</td>\n",
       "    </tr>\n",
       "    <tr>\n",
       "      <th>std</th>\n",
       "      <td>1986.860670</td>\n",
       "      <td>13.338232</td>\n",
       "      <td>44.789133</td>\n",
       "      <td>0.008168</td>\n",
       "      <td>39.015750</td>\n",
       "    </tr>\n",
       "    <tr>\n",
       "      <th>min</th>\n",
       "      <td>0.000000</td>\n",
       "      <td>0.000000</td>\n",
       "      <td>0.000000</td>\n",
       "      <td>0.000000</td>\n",
       "      <td>0.000000</td>\n",
       "    </tr>\n",
       "    <tr>\n",
       "      <th>25%</th>\n",
       "      <td>1193.000000</td>\n",
       "      <td>272.160000</td>\n",
       "      <td>0.000000</td>\n",
       "      <td>0.000000</td>\n",
       "      <td>1.000000</td>\n",
       "    </tr>\n",
       "    <tr>\n",
       "      <th>50%</th>\n",
       "      <td>3380.000000</td>\n",
       "      <td>282.450000</td>\n",
       "      <td>0.000000</td>\n",
       "      <td>0.000000</td>\n",
       "      <td>64.000000</td>\n",
       "    </tr>\n",
       "    <tr>\n",
       "      <th>75%</th>\n",
       "      <td>4933.000000</td>\n",
       "      <td>291.806000</td>\n",
       "      <td>0.000000</td>\n",
       "      <td>0.000000</td>\n",
       "      <td>90.000000</td>\n",
       "    </tr>\n",
       "    <tr>\n",
       "      <th>max</th>\n",
       "      <td>7280.000000</td>\n",
       "      <td>310.070000</td>\n",
       "      <td>9831.300000</td>\n",
       "      <td>0.510000</td>\n",
       "      <td>100.000000</td>\n",
       "    </tr>\n",
       "  </tbody>\n",
       "</table>\n",
       "</div>"
      ],
      "text/plain": [
       "       traffic_volume          temp       rain_1h       snow_1h    clouds_all\n",
       "count    48204.000000  48204.000000  48204.000000  48204.000000  48204.000000\n",
       "mean      3259.818355    281.205870      0.334264      0.000222     49.362231\n",
       "std       1986.860670     13.338232     44.789133      0.008168     39.015750\n",
       "min          0.000000      0.000000      0.000000      0.000000      0.000000\n",
       "25%       1193.000000    272.160000      0.000000      0.000000      1.000000\n",
       "50%       3380.000000    282.450000      0.000000      0.000000     64.000000\n",
       "75%       4933.000000    291.806000      0.000000      0.000000     90.000000\n",
       "max       7280.000000    310.070000   9831.300000      0.510000    100.000000"
      ]
     },
     "execution_count": 47,
     "metadata": {},
     "output_type": "execute_result"
    }
   ],
   "source": [
    "traffic_df.describe()"
   ]
  },
  {
   "cell_type": "markdown",
   "id": "9a83fcef",
   "metadata": {},
   "source": [
    "Kita juga bisa eksplor lebih lanjut menggunakan cara-cara yang telah dijelaskan pada Modul 1.1 dan Modul 1.2. Supaya mendapatkan pemahaman yang lebih detail"
   ]
  },
  {
   "cell_type": "markdown",
   "id": "26c56a32",
   "metadata": {},
   "source": [
    "Untuk mempersingkat, kita bisa membuat code Python ([statistics_descriptive.py](statistics_descriptive.py)) yang kemudian kita import fungsi-fungsinya disini."
   ]
  },
  {
   "cell_type": "code",
   "execution_count": 61,
   "id": "b97a622d",
   "metadata": {},
   "outputs": [],
   "source": [
    "# import dari py yang kita bikin sendiri (harus satu direktori)\n",
    "import statistics_descriptive as sd"
   ]
  },
  {
   "cell_type": "code",
   "execution_count": 62,
   "id": "3579ad5d",
   "metadata": {},
   "outputs": [
    {
     "data": {
      "image/png": "[encoded data removed]",
      "text/plain": [
       "<Figure size 640x480 with 1 Axes>"
      ]
     },
     "metadata": {},
     "output_type": "display_data"
    }
   ],
   "source": [
    "sd.visualize_mean(traffic_df['traffic_volume'])"
   ]
  },
  {
   "cell_type": "code",
   "execution_count": 63,
   "id": "d144d0d5",
   "metadata": {},
   "outputs": [
    {
     "data": {
      "image/png": "[encoded data removed]",
      "text/plain": [
       "<Figure size 640x480 with 1 Axes>"
      ]
     },
     "metadata": {},
     "output_type": "display_data"
    }
   ],
   "source": [
    "sd.visualize_median(traffic_df['traffic_volume'])"
   ]
  },
  {
   "cell_type": "code",
   "execution_count": 64,
   "id": "75db5f79",
   "metadata": {},
   "outputs": [
    {
     "data": {
      "image/png": "[encoded data removed]",
      "text/plain": [
       "<Figure size 640x480 with 1 Axes>"
      ]
     },
     "metadata": {},
     "output_type": "display_data"
    }
   ],
   "source": [
    "sd.visualize_modus(traffic_df['traffic_volume'])"
   ]
  },
  {
   "cell_type": "code",
   "execution_count": 66,
   "id": "161e4336",
   "metadata": {},
   "outputs": [
    {
     "ename": "AttributeError",
     "evalue": "module 'statistics_descriptive' has no attribute 'visualize_std'",
     "output_type": "error",
     "traceback": [
      "\u001b[0;31m---------------------------------------------------------------------------\u001b[0m",
      "\u001b[0;31mAttributeError\u001b[0m                            Traceback (most recent call last)",
      "Cell \u001b[0;32mIn[66], line 1\u001b[0m\n\u001b[0;32m----> 1\u001b[0m sd\u001b[38;5;241m.\u001b[39mvisualize_std(traffic_df[\u001b[38;5;124m'\u001b[39m\u001b[38;5;124mtraffic_volume\u001b[39m\u001b[38;5;124m'\u001b[39m])\n",
      "\u001b[0;31mAttributeError\u001b[0m: module 'statistics_descriptive' has no attribute 'visualize_std'"
     ]
    }
   ],
   "source": [
    "sd.visualize_std(traffic_df['traffic_volume'])"
   ]
  },
  {
   "cell_type": "code",
   "execution_count": null,
   "id": "dfc45d98",
   "metadata": {},
   "outputs": [],
   "source": []
  },
  {
   "cell_type": "code",
   "execution_count": null,
   "id": "b0b7e2ec",
   "metadata": {},
   "outputs": [],
   "source": []
  },
  {
   "cell_type": "code",
   "execution_count": null,
   "id": "6dae54b7",
   "metadata": {},
   "outputs": [],
   "source": [
    "# Convert datetime menjadi tipe data pandas datetime\n",
    "traffic_df['date_time'] = pandas.to_datetime(traffic_volume_dataset['date_time'])"
   ]
  },
  {
   "cell_type": "code",
   "execution_count": null,
   "id": "046271f9",
   "metadata": {},
   "outputs": [],
   "source": []
  },
  {
   "cell_type": "code",
   "execution_count": 22,
   "id": "9f77bd95",
   "metadata": {},
   "outputs": [
    {
     "data": {
      "text/html": [
       "<div>\n",
       "<style scoped>\n",
       "    .dataframe tbody tr th:only-of-type {\n",
       "        vertical-align: middle;\n",
       "    }\n",
       "\n",
       "    .dataframe tbody tr th {\n",
       "        vertical-align: top;\n",
       "    }\n",
       "\n",
       "    .dataframe thead th {\n",
       "        text-align: right;\n",
       "    }\n",
       "</style>\n",
       "<table border=\"1\" class=\"dataframe\">\n",
       "  <thead>\n",
       "    <tr style=\"text-align: right;\">\n",
       "      <th></th>\n",
       "      <th>traffic_volume</th>\n",
       "      <th>temp</th>\n",
       "      <th>rain_1h</th>\n",
       "      <th>snow_1h</th>\n",
       "      <th>clouds_all</th>\n",
       "    </tr>\n",
       "  </thead>\n",
       "  <tbody>\n",
       "    <tr>\n",
       "      <th>count</th>\n",
       "      <td>48204.000000</td>\n",
       "      <td>48204.000000</td>\n",
       "      <td>48204.000000</td>\n",
       "      <td>48204.000000</td>\n",
       "      <td>48204.000000</td>\n",
       "    </tr>\n",
       "    <tr>\n",
       "      <th>mean</th>\n",
       "      <td>3259.818355</td>\n",
       "      <td>281.205870</td>\n",
       "      <td>0.334264</td>\n",
       "      <td>0.000222</td>\n",
       "      <td>49.362231</td>\n",
       "    </tr>\n",
       "    <tr>\n",
       "      <th>std</th>\n",
       "      <td>1986.860670</td>\n",
       "      <td>13.338232</td>\n",
       "      <td>44.789133</td>\n",
       "      <td>0.008168</td>\n",
       "      <td>39.015750</td>\n",
       "    </tr>\n",
       "    <tr>\n",
       "      <th>min</th>\n",
       "      <td>0.000000</td>\n",
       "      <td>0.000000</td>\n",
       "      <td>0.000000</td>\n",
       "      <td>0.000000</td>\n",
       "      <td>0.000000</td>\n",
       "    </tr>\n",
       "    <tr>\n",
       "      <th>25%</th>\n",
       "      <td>1193.000000</td>\n",
       "      <td>272.160000</td>\n",
       "      <td>0.000000</td>\n",
       "      <td>0.000000</td>\n",
       "      <td>1.000000</td>\n",
       "    </tr>\n",
       "    <tr>\n",
       "      <th>50%</th>\n",
       "      <td>3380.000000</td>\n",
       "      <td>282.450000</td>\n",
       "      <td>0.000000</td>\n",
       "      <td>0.000000</td>\n",
       "      <td>64.000000</td>\n",
       "    </tr>\n",
       "    <tr>\n",
       "      <th>75%</th>\n",
       "      <td>4933.000000</td>\n",
       "      <td>291.806000</td>\n",
       "      <td>0.000000</td>\n",
       "      <td>0.000000</td>\n",
       "      <td>90.000000</td>\n",
       "    </tr>\n",
       "    <tr>\n",
       "      <th>max</th>\n",
       "      <td>7280.000000</td>\n",
       "      <td>310.070000</td>\n",
       "      <td>9831.300000</td>\n",
       "      <td>0.510000</td>\n",
       "      <td>100.000000</td>\n",
       "    </tr>\n",
       "  </tbody>\n",
       "</table>\n",
       "</div>"
      ],
      "text/plain": [
       "       traffic_volume          temp       rain_1h       snow_1h    clouds_all\n",
       "count    48204.000000  48204.000000  48204.000000  48204.000000  48204.000000\n",
       "mean      3259.818355    281.205870      0.334264      0.000222     49.362231\n",
       "std       1986.860670     13.338232     44.789133      0.008168     39.015750\n",
       "min          0.000000      0.000000      0.000000      0.000000      0.000000\n",
       "25%       1193.000000    272.160000      0.000000      0.000000      1.000000\n",
       "50%       3380.000000    282.450000      0.000000      0.000000     64.000000\n",
       "75%       4933.000000    291.806000      0.000000      0.000000     90.000000\n",
       "max       7280.000000    310.070000   9831.300000      0.510000    100.000000"
      ]
     },
     "execution_count": 22,
     "metadata": {},
     "output_type": "execute_result"
    }
   ],
   "source": [
    "traffic_df.describe()"
   ]
  },
  {
   "cell_type": "code",
   "execution_count": null,
   "id": "4517419d",
   "metadata": {},
   "outputs": [],
   "source": []
  },
  {
   "cell_type": "code",
   "execution_count": null,
   "id": "76a915bf",
   "metadata": {},
   "outputs": [],
   "source": []
  },
  {
   "cell_type": "code",
   "execution_count": null,
   "id": "a5779707",
   "metadata": {},
   "outputs": [],
   "source": []
  },
  {
   "cell_type": "code",
   "execution_count": null,
   "id": "9dc97dbe",
   "metadata": {},
   "outputs": [],
   "source": [
    "traffic_volume_dataset"
   ]
  },
  {
   "cell_type": "code",
   "execution_count": null,
   "id": "7d57d65c",
   "metadata": {},
   "outputs": [],
   "source": [
    "# Extract additional time-based columns for analysis\n",
    "traffic_volume_dataset['hour'] = traffic_volume_dataset['date_time'].dt.hour\n",
    "traffic_volume_dataset['day'] = traffic_volume_dataset['date_time'].dt.day\n",
    "traffic_volume_dataset['month'] = traffic_volume_dataset['date_time'].dt.month\n",
    "traffic_volume_dataset['year'] = traffic_volume_dataset['date_time'].dt.year"
   ]
  },
  {
   "cell_type": "code",
   "execution_count": null,
   "id": "c2bb4838",
   "metadata": {},
   "outputs": [],
   "source": [
    "traffic_volume_dataset"
   ]
  },
  {
   "cell_type": "code",
   "execution_count": null,
   "id": "e7024c40",
   "metadata": {},
   "outputs": [],
   "source": [
    "# cek tipedata setiap kolom\n",
    "traffic_volume_dataset.dtypes"
   ]
  },
  {
   "cell_type": "code",
   "execution_count": null,
   "id": "1f43a39d",
   "metadata": {},
   "outputs": [],
   "source": []
  }
 ],
 "metadata": {
  "kernelspec": {
   "display_name": "Python 3 (ipykernel)",
   "language": "python",
   "name": "python3"
  },
  "language_info": {
   "codemirror_mode": {
    "name": "ipython",
    "version": 3
   },
   "file_extension": ".py",
   "mimetype": "text/x-python",
   "name": "python",
   "nbconvert_exporter": "python",
   "pygments_lexer": "ipython3",
   "version": "3.11.4"
  }
 },
 "nbformat": 4,
 "nbformat_minor": 5
}
