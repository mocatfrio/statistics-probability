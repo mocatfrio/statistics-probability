{
 "cells": [
  {
   "cell_type": "markdown",
   "id": "ed8421b6-e8dc-4ae4-bfed-f0d7c1446de8",
   "metadata": {},
   "source": [
    "# Latihan\n",
    "\n",
    "Data\n",
    "\n",
    "65, 70, 75, 80, 85, 90, 95, 100, 70, 85, 80, 75, 90, 85, 100, 95, 85, 90, 70, 75\n"
   ]
  },
  {
   "cell_type": "code",
   "execution_count": 1,
   "id": "1d61114f-d547-44d7-98ef-f2f206493f4e",
   "metadata": {},
   "outputs": [
    {
     "name": "stdout",
     "output_type": "stream",
     "text": [
      "hello world!\n"
     ]
    }
   ],
   "source": [
    "print(\"hello world!\")"
   ]
  },
  {
   "cell_type": "code",
   "execution_count": 5,
   "id": "54f3bcb9-b276-4f88-913b-daa2f7c2f9e7",
   "metadata": {},
   "outputs": [
    {
     "name": "stdout",
     "output_type": "stream",
     "text": [
      "[65, 70, 75, 80, 85, 90, 95, 100, 70, 85, 80, 75, 90, 85, 100, 95, 85, 90, 70, 75]\n"
     ]
    }
   ],
   "source": [
    "data = [65, 70, 75, 80, 85, 90, 95, 100, 70, 85, 80, 75, 90, 85, 100, 95, 85, 90, 70, 75]\n",
    "print(data)"
   ]
  },
  {
   "cell_type": "code",
   "execution_count": 11,
   "id": "2fe60298-92d9-41d1-9156-ea683bd1defe",
   "metadata": {},
   "outputs": [
    {
     "name": "stdout",
     "output_type": "stream",
     "text": [
      "1660\n",
      "20\n",
      "83.0\n"
     ]
    }
   ],
   "source": [
    "mean = sum(data) / len(data)\n",
    "print(sum(data))\n",
    "print(len(data))\n",
    "print(mean)"
   ]
  },
  {
   "cell_type": "code",
   "execution_count": 13,
   "id": "4d845d7f-dac2-4cbf-9f1a-6fdbe9f1d485",
   "metadata": {},
   "outputs": [
    {
     "name": "stdout",
     "output_type": "stream",
     "text": [
      "20\n"
     ]
    }
   ],
   "source": [
    "n = len(data)\n",
    "print(n)"
   ]
  },
  {
   "cell_type": "code",
   "execution_count": 15,
   "id": "d73863b9-b703-43ea-84db-df603f227127",
   "metadata": {},
   "outputs": [
    {
     "name": "stdout",
     "output_type": "stream",
     "text": [
      "65\n",
      "100\n"
     ]
    }
   ],
   "source": [
    "dmin = min(data)\n",
    "dmax = max(data)\n",
    "print(dmin)\n",
    "print(dmax)"
   ]
  },
  {
   "cell_type": "code",
   "execution_count": 17,
   "id": "9ec0c4a5-9bfb-48d3-b457-2143c03c3e05",
   "metadata": {},
   "outputs": [
    {
     "name": "stdout",
     "output_type": "stream",
     "text": [
      "20\n"
     ]
    }
   ],
   "source": [
    "print(n)"
   ]
  },
  {
   "cell_type": "code",
   "execution_count": 19,
   "id": "19ca6f7e-e10f-4da7-a1f6-c8a85fbd2357",
   "metadata": {},
   "outputs": [
    {
     "name": "stdout",
     "output_type": "stream",
     "text": [
      "35\n"
     ]
    }
   ],
   "source": [
    "R = dmax-dmin\n",
    "print(R)"
   ]
  },
  {
   "cell_type": "code",
   "execution_count": 27,
   "id": "5cdb03b7-7ed1-4bad-9612-baac8c377e4b",
   "metadata": {},
   "outputs": [
    {
     "name": "stdout",
     "output_type": "stream",
     "text": [
      "11\n"
     ]
    }
   ],
   "source": [
    "import math #library python\n",
    "\n",
    "k = math.ceil(1 + 3.3 * math.log(n))\n",
    "print(k)"
   ]
  },
  {
   "cell_type": "code",
   "execution_count": 31,
   "id": "5330bcfb-0d72-4d1b-9e62-ac3a8d3b3409",
   "metadata": {},
   "outputs": [
    {
     "name": "stdout",
     "output_type": "stream",
     "text": [
      "4\n"
     ]
    }
   ],
   "source": [
    "# panjang interval kelas \n",
    "I = math.ceil(R / k)\n",
    "print(I)"
   ]
  },
  {
   "cell_type": "code",
   "execution_count": 64,
   "id": "e066ace9-1f00-4f3c-ae65-0223339a7bde",
   "metadata": {},
   "outputs": [
    {
     "name": "stdout",
     "output_type": "stream",
     "text": [
      "[1, 2, 3, 4, 5, 6, 7, 8, 9, 10, 11]\n",
      "['65-68', '69-72', '73-76', '77-80', '81-84', '85-88', '89-92', '93-96', '97-100', '101-104', '105-108']\n",
      "[64.5, 68.5, 72.5, 76.5, 80.5, 84.5, 88.5, 92.5, 96.5, 100.5, 104.5, 108.5]\n"
     ]
    }
   ],
   "source": [
    "# interval kelas\n",
    "\n",
    "interval_kelas = []\n",
    "tepi_kelas = []\n",
    "kelas = []\n",
    "for i in range(k):\n",
    "    kelas.append(i + 1)\n",
    "\n",
    "    BAK = dmin + i * I\n",
    "    BBK = BAK + I - 1\n",
    "    interval_kelas.append(str(BAK) + \"-\" + str(BBK))\n",
    "\n",
    "    tepi_kelas.append(BAK-0.5)\n",
    "\n",
    "tepi_kelas.append(BBK+0.5)\n",
    "\n",
    "# 65-69\n",
    "# 69-73\n",
    "# dst\n",
    "\n",
    "print(kelas)\n",
    "print(interval_kelas)\n",
    "print(tepi_kelas)"
   ]
  },
  {
   "cell_type": "code",
   "execution_count": 70,
   "id": "69457c0a-21be-4a84-a55a-aa693b8cc28f",
   "metadata": {},
   "outputs": [
    {
     "data": {
      "text/html": [
       "<div>\n",
       "<style scoped>\n",
       "    .dataframe tbody tr th:only-of-type {\n",
       "        vertical-align: middle;\n",
       "    }\n",
       "\n",
       "    .dataframe tbody tr th {\n",
       "        vertical-align: top;\n",
       "    }\n",
       "\n",
       "    .dataframe thead th {\n",
       "        text-align: right;\n",
       "    }\n",
       "</style>\n",
       "<table border=\"1\" class=\"dataframe\">\n",
       "  <thead>\n",
       "    <tr style=\"text-align: right;\">\n",
       "      <th></th>\n",
       "      <th>Kelas</th>\n",
       "      <th>Range</th>\n",
       "      <th>Frequency</th>\n",
       "      <th>Relative Frequency (%)</th>\n",
       "    </tr>\n",
       "  </thead>\n",
       "  <tbody>\n",
       "    <tr>\n",
       "      <th>0</th>\n",
       "      <td>1</td>\n",
       "      <td>65-68</td>\n",
       "      <td>1</td>\n",
       "      <td>5.0</td>\n",
       "    </tr>\n",
       "    <tr>\n",
       "      <th>1</th>\n",
       "      <td>2</td>\n",
       "      <td>69-72</td>\n",
       "      <td>3</td>\n",
       "      <td>15.0</td>\n",
       "    </tr>\n",
       "    <tr>\n",
       "      <th>2</th>\n",
       "      <td>3</td>\n",
       "      <td>73-76</td>\n",
       "      <td>3</td>\n",
       "      <td>15.0</td>\n",
       "    </tr>\n",
       "    <tr>\n",
       "      <th>3</th>\n",
       "      <td>4</td>\n",
       "      <td>77-80</td>\n",
       "      <td>2</td>\n",
       "      <td>10.0</td>\n",
       "    </tr>\n",
       "    <tr>\n",
       "      <th>4</th>\n",
       "      <td>5</td>\n",
       "      <td>81-84</td>\n",
       "      <td>0</td>\n",
       "      <td>0.0</td>\n",
       "    </tr>\n",
       "    <tr>\n",
       "      <th>5</th>\n",
       "      <td>6</td>\n",
       "      <td>85-88</td>\n",
       "      <td>4</td>\n",
       "      <td>20.0</td>\n",
       "    </tr>\n",
       "    <tr>\n",
       "      <th>6</th>\n",
       "      <td>7</td>\n",
       "      <td>89-92</td>\n",
       "      <td>3</td>\n",
       "      <td>15.0</td>\n",
       "    </tr>\n",
       "    <tr>\n",
       "      <th>7</th>\n",
       "      <td>8</td>\n",
       "      <td>93-96</td>\n",
       "      <td>2</td>\n",
       "      <td>10.0</td>\n",
       "    </tr>\n",
       "    <tr>\n",
       "      <th>8</th>\n",
       "      <td>9</td>\n",
       "      <td>97-100</td>\n",
       "      <td>2</td>\n",
       "      <td>10.0</td>\n",
       "    </tr>\n",
       "    <tr>\n",
       "      <th>9</th>\n",
       "      <td>10</td>\n",
       "      <td>101-104</td>\n",
       "      <td>0</td>\n",
       "      <td>0.0</td>\n",
       "    </tr>\n",
       "    <tr>\n",
       "      <th>10</th>\n",
       "      <td>11</td>\n",
       "      <td>105-108</td>\n",
       "      <td>0</td>\n",
       "      <td>0.0</td>\n",
       "    </tr>\n",
       "  </tbody>\n",
       "</table>\n",
       "</div>"
      ],
      "text/plain": [
       "    Kelas    Range  Frequency  Relative Frequency (%)\n",
       "0       1    65-68          1                     5.0\n",
       "1       2    69-72          3                    15.0\n",
       "2       3    73-76          3                    15.0\n",
       "3       4    77-80          2                    10.0\n",
       "4       5    81-84          0                     0.0\n",
       "5       6    85-88          4                    20.0\n",
       "6       7    89-92          3                    15.0\n",
       "7       8    93-96          2                    10.0\n",
       "8       9   97-100          2                    10.0\n",
       "9      10  101-104          0                     0.0\n",
       "10     11  105-108          0                     0.0"
      ]
     },
     "execution_count": 70,
     "metadata": {},
     "output_type": "execute_result"
    }
   ],
   "source": [
    "import pandas \n",
    "\n",
    "# pd.DataFrame(data, columns=[\"Value\"])\n",
    "\n",
    "df = pandas.DataFrame(data, columns=[\"Value\"])\n",
    "\n",
    "df[\"Range\"] = pandas.cut(df[\"Value\"], bins=tepi_kelas, labels=interval_kelas, include_lowest=True)\n",
    "frequency_table = df[\"Range\"].value_counts().sort_index()\n",
    "relative_frequency = frequency_table / frequency_table.sum() * 100\n",
    "frequency_table\n",
    "\n",
    "frequency_distribution = pandas.DataFrame(\n",
    "    {\n",
    "        \"Kelas\": kelas,\n",
    "        \"Range\": frequency_table.index,\n",
    "        \"Frequency\": frequency_table.values,\n",
    "        \"Relative Frequency (%)\": relative_frequency,\n",
    "    }\n",
    ")\n",
    "frequency_distribution.reset_index(drop=True, inplace=True)\n",
    "\n",
    "\n",
    "frequency_distribution\n",
    "\n",
    "\n"
   ]
  },
  {
   "cell_type": "code",
   "execution_count": null,
   "id": "39f3a249-5cc7-4409-9832-ac2775de9382",
   "metadata": {},
   "outputs": [],
   "source": []
  }
 ],
 "metadata": {
  "kernelspec": {
   "display_name": "Python 3 (ipykernel)",
   "language": "python",
   "name": "python3"
  },
  "language_info": {
   "codemirror_mode": {
    "name": "ipython",
    "version": 3
   },
   "file_extension": ".py",
   "mimetype": "text/x-python",
   "name": "python",
   "nbconvert_exporter": "python",
   "pygments_lexer": "ipython3",
   "version": "3.12.4"
  }
 },
 "nbformat": 4,
 "nbformat_minor": 5
}
