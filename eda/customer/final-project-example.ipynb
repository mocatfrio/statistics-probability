{
 "cells": [
  {
   "cell_type": "markdown",
   "metadata": {},
   "source": [
    "### Week 10: Random Variable and Probability Distribution\n",
    "# Final Project\n",
    "\n",
    "1. **Deskriptif Statistik**: Tampilkan statistik deskriptif untuk setiap variabel.\n",
    "2. **Distribusi Probabilitas**: Lakukan uji distribusi pada setiap variabel untuk mengamati apakah variabel-variabel tersebut mengikuti distribusi tertentu (misalnya, normal, uniform, dll). Anda dapat menggunakan visualisasi histogram dan density plot, atau menerapkan metode uji statistik yang sesuai.\n",
    "3. **Menghitung Probabilitas**: Hitung probabilitas kejadian tertentu, seperti \"pelanggan memiliki kepuasan di atas 4\"."
   ]
  },
  {
   "cell_type": "markdown",
   "metadata": {},
   "source": [
    "## Import Data\n",
    "\n",
    "Dataset diambil dari: \n",
    "\n",
    "https://www.kaggle.com/datasets/masnunu/dataset-digital-marketing"
   ]
  },
  {
   "cell_type": "code",
   "execution_count": 4,
   "metadata": {},
   "outputs": [],
   "source": [
    "import pandas as pd"
   ]
  },
  {
   "cell_type": "code",
   "execution_count": null,
   "metadata": {},
   "outputs": [],
   "source": [
    "df = pd.read_csv(\"./data_pelanggan_200.csv\")"
   ]
  },
  {
   "cell_type": "code",
   "execution_count": 8,
   "metadata": {},
   "outputs": [
    {
     "data": {
      "text/html": [
       "<div>\n",
       "<style scoped>\n",
       "    .dataframe tbody tr th:only-of-type {\n",
       "        vertical-align: middle;\n",
       "    }\n",
       "\n",
       "    .dataframe tbody tr th {\n",
       "        vertical-align: top;\n",
       "    }\n",
       "\n",
       "    .dataframe thead th {\n",
       "        text-align: right;\n",
       "    }\n",
       "</style>\n",
       "<table border=\"1\" class=\"dataframe\">\n",
       "  <thead>\n",
       "    <tr style=\"text-align: right;\">\n",
       "      <th></th>\n",
       "      <th>ID Pelanggan</th>\n",
       "      <th>Usia</th>\n",
       "      <th>Jenis Kelamin</th>\n",
       "      <th>Pendapatan</th>\n",
       "      <th>Durasi Kunjungan (menit)</th>\n",
       "      <th>Produk Dilihat</th>\n",
       "      <th>Frekuensi Pembelian</th>\n",
       "      <th>Rating Kepuasan</th>\n",
       "      <th>Lokasi Geografis</th>\n",
       "      <th>Media Sosial</th>\n",
       "      <th>Pekerjaan</th>\n",
       "    </tr>\n",
       "  </thead>\n",
       "  <tbody>\n",
       "    <tr>\n",
       "      <th>0</th>\n",
       "      <td>1</td>\n",
       "      <td>59</td>\n",
       "      <td>Wanita</td>\n",
       "      <td>56506</td>\n",
       "      <td>19</td>\n",
       "      <td>3</td>\n",
       "      <td>3</td>\n",
       "      <td>5</td>\n",
       "      <td>Kota A</td>\n",
       "      <td>Instagram</td>\n",
       "      <td>Freelancer</td>\n",
       "    </tr>\n",
       "    <tr>\n",
       "      <th>1</th>\n",
       "      <td>2</td>\n",
       "      <td>34</td>\n",
       "      <td>Pria</td>\n",
       "      <td>140094</td>\n",
       "      <td>48</td>\n",
       "      <td>3</td>\n",
       "      <td>4</td>\n",
       "      <td>1</td>\n",
       "      <td>Kota C</td>\n",
       "      <td>Twitter</td>\n",
       "      <td>Mahasiswa</td>\n",
       "    </tr>\n",
       "    <tr>\n",
       "      <th>2</th>\n",
       "      <td>3</td>\n",
       "      <td>30</td>\n",
       "      <td>Wanita</td>\n",
       "      <td>87596</td>\n",
       "      <td>32</td>\n",
       "      <td>6</td>\n",
       "      <td>0</td>\n",
       "      <td>5</td>\n",
       "      <td>Kota C</td>\n",
       "      <td>Facebook</td>\n",
       "      <td>PNS</td>\n",
       "    </tr>\n",
       "    <tr>\n",
       "      <th>3</th>\n",
       "      <td>4</td>\n",
       "      <td>57</td>\n",
       "      <td>Wanita</td>\n",
       "      <td>93232</td>\n",
       "      <td>42</td>\n",
       "      <td>10</td>\n",
       "      <td>3</td>\n",
       "      <td>5</td>\n",
       "      <td>Kota C</td>\n",
       "      <td>Instagram</td>\n",
       "      <td>PNS</td>\n",
       "    </tr>\n",
       "    <tr>\n",
       "      <th>4</th>\n",
       "      <td>5</td>\n",
       "      <td>56</td>\n",
       "      <td>Pria</td>\n",
       "      <td>120055</td>\n",
       "      <td>18</td>\n",
       "      <td>1</td>\n",
       "      <td>4</td>\n",
       "      <td>2</td>\n",
       "      <td>Kota B</td>\n",
       "      <td>Instagram</td>\n",
       "      <td>Freelancer</td>\n",
       "    </tr>\n",
       "    <tr>\n",
       "      <th>...</th>\n",
       "      <td>...</td>\n",
       "      <td>...</td>\n",
       "      <td>...</td>\n",
       "      <td>...</td>\n",
       "      <td>...</td>\n",
       "      <td>...</td>\n",
       "      <td>...</td>\n",
       "      <td>...</td>\n",
       "      <td>...</td>\n",
       "      <td>...</td>\n",
       "      <td>...</td>\n",
       "    </tr>\n",
       "    <tr>\n",
       "      <th>195</th>\n",
       "      <td>196</td>\n",
       "      <td>21</td>\n",
       "      <td>Wanita</td>\n",
       "      <td>86584</td>\n",
       "      <td>53</td>\n",
       "      <td>5</td>\n",
       "      <td>1</td>\n",
       "      <td>1</td>\n",
       "      <td>Kota B</td>\n",
       "      <td>Instagram</td>\n",
       "      <td>Karyawan Swasta</td>\n",
       "    </tr>\n",
       "    <tr>\n",
       "      <th>196</th>\n",
       "      <td>197</td>\n",
       "      <td>20</td>\n",
       "      <td>Pria</td>\n",
       "      <td>32141</td>\n",
       "      <td>40</td>\n",
       "      <td>2</td>\n",
       "      <td>2</td>\n",
       "      <td>5</td>\n",
       "      <td>Kota B</td>\n",
       "      <td>Twitter</td>\n",
       "      <td>Freelancer</td>\n",
       "    </tr>\n",
       "    <tr>\n",
       "      <th>197</th>\n",
       "      <td>198</td>\n",
       "      <td>21</td>\n",
       "      <td>Wanita</td>\n",
       "      <td>141253</td>\n",
       "      <td>11</td>\n",
       "      <td>5</td>\n",
       "      <td>2</td>\n",
       "      <td>1</td>\n",
       "      <td>Kota B</td>\n",
       "      <td>Instagram</td>\n",
       "      <td>Freelancer</td>\n",
       "    </tr>\n",
       "    <tr>\n",
       "      <th>198</th>\n",
       "      <td>199</td>\n",
       "      <td>37</td>\n",
       "      <td>Wanita</td>\n",
       "      <td>136533</td>\n",
       "      <td>27</td>\n",
       "      <td>3</td>\n",
       "      <td>3</td>\n",
       "      <td>1</td>\n",
       "      <td>Kota A</td>\n",
       "      <td>Twitter</td>\n",
       "      <td>PNS</td>\n",
       "    </tr>\n",
       "    <tr>\n",
       "      <th>199</th>\n",
       "      <td>200</td>\n",
       "      <td>47</td>\n",
       "      <td>Pria</td>\n",
       "      <td>56019</td>\n",
       "      <td>39</td>\n",
       "      <td>9</td>\n",
       "      <td>2</td>\n",
       "      <td>1</td>\n",
       "      <td>Kota A</td>\n",
       "      <td>Instagram</td>\n",
       "      <td>PNS</td>\n",
       "    </tr>\n",
       "  </tbody>\n",
       "</table>\n",
       "<p>200 rows × 11 columns</p>\n",
       "</div>"
      ],
      "text/plain": [
       "     ID Pelanggan  Usia Jenis Kelamin  Pendapatan  Durasi Kunjungan (menit)  \\\n",
       "0               1    59        Wanita       56506                        19   \n",
       "1               2    34          Pria      140094                        48   \n",
       "2               3    30        Wanita       87596                        32   \n",
       "3               4    57        Wanita       93232                        42   \n",
       "4               5    56          Pria      120055                        18   \n",
       "..            ...   ...           ...         ...                       ...   \n",
       "195           196    21        Wanita       86584                        53   \n",
       "196           197    20          Pria       32141                        40   \n",
       "197           198    21        Wanita      141253                        11   \n",
       "198           199    37        Wanita      136533                        27   \n",
       "199           200    47          Pria       56019                        39   \n",
       "\n",
       "     Produk Dilihat  Frekuensi Pembelian  Rating Kepuasan Lokasi Geografis  \\\n",
       "0                 3                    3                5           Kota A   \n",
       "1                 3                    4                1           Kota C   \n",
       "2                 6                    0                5           Kota C   \n",
       "3                10                    3                5           Kota C   \n",
       "4                 1                    4                2           Kota B   \n",
       "..              ...                  ...              ...              ...   \n",
       "195               5                    1                1           Kota B   \n",
       "196               2                    2                5           Kota B   \n",
       "197               5                    2                1           Kota B   \n",
       "198               3                    3                1           Kota A   \n",
       "199               9                    2                1           Kota A   \n",
       "\n",
       "    Media Sosial        Pekerjaan  \n",
       "0      Instagram       Freelancer  \n",
       "1        Twitter        Mahasiswa  \n",
       "2       Facebook              PNS  \n",
       "3      Instagram              PNS  \n",
       "4      Instagram       Freelancer  \n",
       "..           ...              ...  \n",
       "195    Instagram  Karyawan Swasta  \n",
       "196      Twitter       Freelancer  \n",
       "197    Instagram       Freelancer  \n",
       "198      Twitter              PNS  \n",
       "199    Instagram              PNS  \n",
       "\n",
       "[200 rows x 11 columns]"
      ]
     },
     "execution_count": 8,
     "metadata": {},
     "output_type": "execute_result"
    }
   ],
   "source": [
    "df"
   ]
  },
  {
   "cell_type": "code",
   "execution_count": 16,
   "metadata": {},
   "outputs": [
    {
     "data": {
      "text/plain": [
       "Index(['ID Pelanggan', 'Usia', 'Jenis Kelamin', 'Pendapatan',\n",
       "       'Durasi Kunjungan (menit)', 'Produk Dilihat', 'Frekuensi Pembelian',\n",
       "       'Rating Kepuasan', 'Lokasi Geografis', 'Media Sosial', 'Pekerjaan'],\n",
       "      dtype='object')"
      ]
     },
     "execution_count": 16,
     "metadata": {},
     "output_type": "execute_result"
    }
   ],
   "source": [
    "df.columns"
   ]
  },
  {
   "cell_type": "markdown",
   "metadata": {},
   "source": [
    "---"
   ]
  },
  {
   "cell_type": "markdown",
   "metadata": {},
   "source": [
    "## Analisis Faktor Rating Kepuasan\n",
    "\n",
    "### 1. Statistika Deskriptif"
   ]
  },
  {
   "cell_type": "code",
   "execution_count": 80,
   "metadata": {},
   "outputs": [
    {
     "data": {
      "text/plain": [
       "count    200.000000\n",
       "mean       2.975000\n",
       "std        1.468043\n",
       "min        1.000000\n",
       "25%        2.000000\n",
       "50%        3.000000\n",
       "75%        4.000000\n",
       "max        5.000000\n",
       "Name: Rating Kepuasan, dtype: float64"
      ]
     },
     "execution_count": 80,
     "metadata": {},
     "output_type": "execute_result"
    }
   ],
   "source": [
    "df[\"Rating Kepuasan\"].describe()"
   ]
  },
  {
   "cell_type": "markdown",
   "metadata": {},
   "source": [
    "### 2. Uji Distribusi Probabilitas"
   ]
  },
  {
   "cell_type": "code",
   "execution_count": 88,
   "metadata": {},
   "outputs": [
    {
     "name": "stdout",
     "output_type": "stream",
     "text": [
      "Banyak kelas = 9\n"
     ]
    }
   ],
   "source": [
    "import math\n",
    "\n",
    "n = len(df)\n",
    "\n",
    "# Menentukan banyak kelas\n",
    "kelas = math.ceil(1 + 3.3 * math.log(n, 10))\n",
    "print(\"Banyak kelas =\", k)"
   ]
  },
  {
   "cell_type": "code",
   "execution_count": 90,
   "metadata": {},
   "outputs": [
    {
     "data": {
      "image/png": "[encoded data removed]",
      "text/plain": [
       "<Figure size 640x480 with 1 Axes>"
      ]
     },
     "metadata": {},
     "output_type": "display_data"
    }
   ],
   "source": [
    "import seaborn as sns\n",
    "import matplotlib.pyplot as plt\n",
    "\n",
    "# Visualisasi distribusi dengan histogram dan density plot\n",
    "sns.histplot(df['Rating Kepuasan'], bins=kelas, kde=True, color='skyblue')\n",
    "plt.title(\"Distribusi Rating Kepuasan\")\n",
    "plt.xlabel(\"Frekuensi Rating Kepuasan\")\n",
    "plt.ylabel(\"Frekuensi\")\n",
    "plt.show()"
   ]
  },
  {
   "cell_type": "code",
   "execution_count": 92,
   "metadata": {},
   "outputs": [
    {
     "name": "stdout",
     "output_type": "stream",
     "text": [
      "Statistics=0.873, p=0.000\n",
      "Data tidak mengikuti distribusi normal\n"
     ]
    }
   ],
   "source": [
    "from scipy.stats import shapiro\n",
    "\n",
    "stat, p = shapiro(df['Rating Kepuasan'])\n",
    "print('Statistics=%.3f, p=%.3f' % (stat, p))\n",
    "if p > 0.05:\n",
    "    print('Data mengikuti distribusi normal')\n",
    "else:\n",
    "    print('Data tidak mengikuti distribusi normal')"
   ]
  },
  {
   "cell_type": "markdown",
   "metadata": {},
   "source": [
    "### 3. Menghitung Probabilitas\n",
    "\n",
    "#### **Jika Data Berdistribusi Normal**\n",
    "1. Hitung rata-rata dan standar deviasi dari data.\n",
    "2. Gunakan Distribusi Normal untuk menghitung probabilitas. Misalnya, untuk probabilitas X > 4, gunakan 1 - norm.cdf(4, mean, std_dev).\n",
    "\n",
    "#### **Jika Data Tidak Berdistribusi Normal**\n",
    "1. Metode Empiris (Non-parametrik): Menggunakan metode perhitungan probabilitas dasar, dengan menghitung proporsi data yang memenuhi kriteria (misalnya X > 4) dari total data, tanpa asumsi distribusi.\n",
    "2. Transformasi Data: Melakukan transformasi (misalnya, log atau Box-Cox) untuk mendekati distribusi normal, lalu gunakan metode normal.\n",
    "3. Distribusi Lain (Parametrik): Jika data mengikuti distribusi selain normal, misalnya log-normal atau gamma, gunakan distribusi tersebut untuk menghitung probabilitas."
   ]
  },
  {
   "cell_type": "markdown",
   "metadata": {},
   "source": [
    "#### Metode Empiris"
   ]
  },
  {
   "cell_type": "code",
   "execution_count": 124,
   "metadata": {},
   "outputs": [
    {
     "name": "stdout",
     "output_type": "stream",
     "text": [
      "nA:  43 nS:  200\n",
      "Probabilitas empiris (kepuasan > 4): 21.50%\n"
     ]
    }
   ],
   "source": [
    "nA = len(df[df['Rating Kepuasan'] > 4])\n",
    "nS = len(df)\n",
    "\n",
    "print(\"nA: \", nA, \"nS: \", nS)\n",
    "probabilitas_empiris = nA / nS * 100\n",
    "print(f\"Probabilitas empiris (kepuasan > 4): {probabilitas_empiris:.2f}%\")"
   ]
  },
  {
   "cell_type": "markdown",
   "metadata": {},
   "source": [
    "#### Transformasi Data"
   ]
  },
  {
   "cell_type": "code",
   "execution_count": 141,
   "metadata": {},
   "outputs": [
    {
     "name": "stdout",
     "output_type": "stream",
     "text": [
      "Probabilitas setelah transformasi log (kepuasan > 4): 22.37%\n",
      "Statistics=0.863, p=0.000\n",
      "Data tidak mengikuti distribusi normal\n"
     ]
    }
   ],
   "source": [
    "import numpy as np\n",
    "\n",
    "# Transformasi log \n",
    "df['kepuasan_log'] = np.log(df['Rating Kepuasan'] + 1)\n",
    "\n",
    "# Hitung rata-rata dan standar deviasi dari data yang telah ditransformasi\n",
    "mean_kepuasan_log = df['kepuasan_log'].mean()\n",
    "std_kepuasan_log = df['kepuasan_log'].std()\n",
    "\n",
    "# Hitung probabilitas kepuasan > log(4) pada data yang ditransformasi\n",
    "probabilitas_log = (1 - norm.cdf(np.log(4 + 1), mean_kepuasan_log, std_kepuasan_log)) * 100\n",
    "print(f\"Probabilitas setelah transformasi log (kepuasan > 4): {probabilitas_log:.2f}%\")\n",
    "\n",
    "# Uji normalitas \n",
    "stat, p = shapiro(df['kepuasan_log'])\n",
    "print('Statistics=%.3f, p=%.3f' % (stat, p))\n",
    "if p > 0.05:\n",
    "    print('Data mengikuti distribusi normal')\n",
    "else:\n",
    "    print('Data tidak mengikuti distribusi normal')"
   ]
  },
  {
   "cell_type": "code",
   "execution_count": null,
   "metadata": {},
   "outputs": [],
   "source": []
  },
  {
   "cell_type": "markdown",
   "metadata": {},
   "source": [
    "---"
   ]
  },
  {
   "cell_type": "markdown",
   "metadata": {},
   "source": [
    "## Analisis Faktor Frekuensi Pembelian"
   ]
  },
  {
   "cell_type": "markdown",
   "metadata": {},
   "source": [
    "### 1. Statistika Deskriptif"
   ]
  },
  {
   "cell_type": "code",
   "execution_count": 18,
   "metadata": {},
   "outputs": [
    {
     "data": {
      "text/plain": [
       "count    200.000000\n",
       "mean       2.370000\n",
       "std        1.663411\n",
       "min        0.000000\n",
       "25%        1.000000\n",
       "50%        2.000000\n",
       "75%        4.000000\n",
       "max        5.000000\n",
       "Name: Frekuensi Pembelian, dtype: float64"
      ]
     },
     "execution_count": 18,
     "metadata": {},
     "output_type": "execute_result"
    }
   ],
   "source": [
    "df[\"Frekuensi Pembelian\"].describe()"
   ]
  },
  {
   "cell_type": "code",
   "execution_count": 54,
   "metadata": {},
   "outputs": [
    {
     "name": "stdout",
     "output_type": "stream",
     "text": [
      "Banyak kelas = 9\n"
     ]
    }
   ],
   "source": [
    "import math\n",
    "\n",
    "n = len(df)\n",
    "\n",
    "# Menentukan banyak kelas\n",
    "kelas = math.ceil(1 + 3.3 * math.log(n, 10))\n",
    "print(\"Banyak kelas =\", k)"
   ]
  },
  {
   "cell_type": "markdown",
   "metadata": {},
   "source": [
    "### 2. Uji Distribusi"
   ]
  },
  {
   "cell_type": "code",
   "execution_count": 75,
   "metadata": {},
   "outputs": [
    {
     "data": {
      "image/png": "[encoded data removed]",
      "text/plain": [
       "<Figure size 640x480 with 1 Axes>"
      ]
     },
     "metadata": {},
     "output_type": "display_data"
    }
   ],
   "source": [
    "import seaborn as sns\n",
    "import matplotlib.pyplot as plt\n",
    "\n",
    "# Visualisasi distribusi dengan histogram dan density plot\n",
    "sns.histplot(df['Frekuensi Pembelian'], bins=kelas, kde=True, color='skyblue')\n",
    "plt.title(\"Distribusi Frekuensi Pembelian\")\n",
    "plt.xlabel(\"Frekuensi Pembelian\")\n",
    "plt.ylabel(\"Frekuensi\")\n",
    "plt.show()"
   ]
  },
  {
   "cell_type": "code",
   "execution_count": 63,
   "metadata": {},
   "outputs": [
    {
     "data": {
      "image/png": "[encoded data removed]",
      "text/plain": [
       "<Figure size 800x600 with 1 Axes>"
      ]
     },
     "metadata": {},
     "output_type": "display_data"
    }
   ],
   "source": [
    "import scipy.stats as stats\n",
    "\n",
    "# Uji normalitas dgn Q-Q Plot \n",
    "plt.figure(figsize=(8, 6))\n",
    "stats.probplot(df['Frekuensi Pembelian'], dist=\"norm\", plot=plt)\n",
    "plt.title('Q-Q Plot untuk Memeriksa Normalitas')\n",
    "plt.xlabel('Teoretis Quantiles')\n",
    "plt.ylabel('Sample Quantiles')\n",
    "plt.grid()\n",
    "plt.show()"
   ]
  },
  {
   "cell_type": "code",
   "execution_count": 77,
   "metadata": {},
   "outputs": [
    {
     "name": "stdout",
     "output_type": "stream",
     "text": [
      "Statistics=0.652, p=0.000\n",
      "Data tidak mengikuti distribusi normal\n"
     ]
    }
   ],
   "source": [
    "from scipy.stats import kstest, norm\n",
    "\n",
    "stat, p = kstest(df['Frekuensi Pembelian'], 'norm')\n",
    "print('Statistics=%.3f, p=%.3f' % (stat, p))\n",
    "if p > 0.05:\n",
    "    print('Data mengikuti distribusi normal')\n",
    "else:\n",
    "    print('Data tidak mengikuti distribusi normal')"
   ]
  },
  {
   "cell_type": "markdown",
   "metadata": {},
   "source": [
    "## Analisis Faktor Lokasi "
   ]
  },
  {
   "cell_type": "code",
   "execution_count": 21,
   "metadata": {},
   "outputs": [
    {
     "data": {
      "text/plain": [
       "count        200\n",
       "unique         3\n",
       "top       Kota A\n",
       "freq          75\n",
       "Name: Lokasi Geografis, dtype: object"
      ]
     },
     "execution_count": 21,
     "metadata": {},
     "output_type": "execute_result"
    }
   ],
   "source": [
    "df[\"Lokasi Geografis\"].describe()"
   ]
  }
 ],
 "metadata": {
  "kernelspec": {
   "display_name": "Python 3 (ipykernel)",
   "language": "python",
   "name": "python3"
  },
  "language_info": {
   "codemirror_mode": {
    "name": "ipython",
    "version": 3
   },
   "file_extension": ".py",
   "mimetype": "text/x-python",
   "name": "python",
   "nbconvert_exporter": "python",
   "pygments_lexer": "ipython3",
   "version": "3.12.4"
  }
 },
 "nbformat": 4,
 "nbformat_minor": 4
}
